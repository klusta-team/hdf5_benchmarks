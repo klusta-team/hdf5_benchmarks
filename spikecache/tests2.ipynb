{
 "metadata": {
  "name": "",
  "signature": "sha256:ca40524b73d29822a09bbab67a99f02230ae2b1b4d4e98024fe8178811be80c1"
 },
 "nbformat": 3,
 "nbformat_minor": 0,
 "worksheets": [
  {
   "cells": [
    {
     "cell_type": "code",
     "collapsed": false,
     "input": [
      "import numpy as np\n",
      "import tables as tb\n",
      "tb.parameters.CHUNK_CACHE_SIZE = 10*1024*1024\n",
      "\n",
      "import spikedetekt2.dataio\n",
      "import spikedetekt2.dataio.spikecache\n",
      "reload(spikedetekt2.dataio.spikecache)\n",
      "from spikedetekt2.dataio import *"
     ],
     "language": "python",
     "metadata": {},
     "outputs": [],
     "prompt_number": 1
    },
    {
     "cell_type": "code",
     "collapsed": false,
     "input": [
      "DIRPATH = '.'\n",
      "\n",
      "def setup():\n",
      "    \n",
      "    nspikes = 10000\n",
      "    nchannels = 32\n",
      "    nfeatures_per_channel = 3\n",
      "    nfeatures = nchannels * nfeatures_per_channel\n",
      "    \n",
      "    prm = dict(\n",
      "        nfeatures_per_channel=nfeatures_per_channel,\n",
      "        nchannels=nchannels,\n",
      "        waveforms_nsamples=40,\n",
      "        sample_rate=20e3,\n",
      "        )\n",
      "        \n",
      "    prb = dict(channel_groups=[dict(\n",
      "        channels=range(prm['nchannels']),\n",
      "        graph=[],\n",
      "        geometry={},)])\n",
      "    \n",
      "    create_files('myexperiment', dir=DIRPATH, prm=prm, prb=prb)\n",
      "    \n",
      "    # Open the files.\n",
      "    files = open_files('myexperiment', dir=DIRPATH, mode='a')\n",
      "    \n",
      "    # Add data.\n",
      "    for _ in range(20):\n",
      "        print _,\n",
      "        add_spikes(files,\n",
      "                    time_samples=np.arange(nspikes), \n",
      "                    masks=np.random.rand(nspikes, nfeatures)<.5, \n",
      "                    cluster=np.random.randint(size=(nspikes),\n",
      "                                               low=0, high=100),\n",
      "                    features=np.random.randint(size=(nspikes, nfeatures),\n",
      "                                               low=-32000,\n",
      "                                               high=32000), \n",
      "                    waveforms_filtered=np.random.randint(\n",
      "                        size=(nspikes, prm['waveforms_nsamples'], nchannels),\n",
      "                           low=-32000,\n",
      "                           high=32000))\n",
      "            \n",
      "    # Close the files\n",
      "    close_files(files)\n",
      "\n",
      "def teardown():\n",
      "    files = get_filenames('myexperiment', dir=DIRPATH)\n",
      "    [os.remove(path) for path in itervalues(files)]"
     ],
     "language": "python",
     "metadata": {},
     "outputs": [],
     "prompt_number": 2
    },
    {
     "cell_type": "code",
     "collapsed": false,
     "input": [
      "# teardown(); \n",
      "setup()"
     ],
     "language": "python",
     "metadata": {},
     "outputs": [
      {
       "output_type": "stream",
       "stream": "stdout",
       "text": [
        "0 "
       ]
      },
      {
       "output_type": "stream",
       "stream": "stdout",
       "text": [
        "1 "
       ]
      },
      {
       "output_type": "stream",
       "stream": "stdout",
       "text": [
        "2 "
       ]
      },
      {
       "output_type": "stream",
       "stream": "stdout",
       "text": [
        "3 "
       ]
      },
      {
       "output_type": "stream",
       "stream": "stdout",
       "text": [
        "4 "
       ]
      },
      {
       "output_type": "stream",
       "stream": "stdout",
       "text": [
        "5 "
       ]
      },
      {
       "output_type": "stream",
       "stream": "stdout",
       "text": [
        "6 "
       ]
      },
      {
       "output_type": "stream",
       "stream": "stdout",
       "text": [
        "7 "
       ]
      },
      {
       "output_type": "stream",
       "stream": "stdout",
       "text": [
        "8 "
       ]
      },
      {
       "output_type": "stream",
       "stream": "stdout",
       "text": [
        "9 "
       ]
      },
      {
       "output_type": "stream",
       "stream": "stdout",
       "text": [
        "10 "
       ]
      },
      {
       "output_type": "stream",
       "stream": "stdout",
       "text": [
        "11 "
       ]
      },
      {
       "output_type": "stream",
       "stream": "stdout",
       "text": [
        "12 "
       ]
      },
      {
       "output_type": "stream",
       "stream": "stdout",
       "text": [
        "13 "
       ]
      },
      {
       "output_type": "stream",
       "stream": "stdout",
       "text": [
        "14 "
       ]
      },
      {
       "output_type": "stream",
       "stream": "stdout",
       "text": [
        "15 "
       ]
      },
      {
       "output_type": "stream",
       "stream": "stdout",
       "text": [
        "16 "
       ]
      },
      {
       "output_type": "stream",
       "stream": "stdout",
       "text": [
        "17 "
       ]
      },
      {
       "output_type": "stream",
       "stream": "stdout",
       "text": [
        "18 "
       ]
      },
      {
       "output_type": "stream",
       "stream": "stdout",
       "text": [
        "19\n"
       ]
      }
     ],
     "prompt_number": 3
    },
    {
     "cell_type": "code",
     "collapsed": false,
     "input": [
      "reload(spikedetekt2.dataio.spikecache)\n",
      "#%load_ext line_profiler\n",
      "\n",
      "with Experiment('myexperiment', dir='.') as exp:\n",
      "    cache = SpikeCache(spike_clusters=exp.channel_groups[0].spikes.clusters.main,\n",
      "                       features_masks=exp.channel_groups[0].spikes.features_masks,\n",
      "                       waveforms_filtered=exp.channel_groups[0].spikes.waveforms_filtered,\n",
      "                       )\n",
      "    \n",
      "    print(\"Features of all spikes in some clusters\")\n",
      "    clusters = arange(0,100,10)\n",
      "    %timeit -n1 -r1 cache.load_waveforms(clusters=clusters)\n",
      "    %timeit cache.load_waveforms(clusters=clusters)\n",
      "    print\n",
      "    \n",
      "    #%lprun -f cache.load_features_masks cache.load_features_masks(fraction=.01, clusters=clusters)"
     ],
     "language": "python",
     "metadata": {},
     "outputs": [
      {
       "output_type": "stream",
       "stream": "stdout",
       "text": [
        "Features of all spikes in some clusters\n",
        "1 loops, best of 1: 3.91 s per loop"
       ]
      },
      {
       "output_type": "stream",
       "stream": "stdout",
       "text": [
        "\n",
        "1 loops, best of 3: 614 ms per loop"
       ]
      },
      {
       "output_type": "stream",
       "stream": "stdout",
       "text": [
        "\n",
        "\n"
       ]
      }
     ],
     "prompt_number": 4
    },
    {
     "cell_type": "raw",
     "metadata": {},
     "source": [
      "with Experiment('myexperiment', dir='.') as exp:\n",
      "    fm = exp.channel_groups[0].spikes.features_masks\n",
      "    n = fm.shape[0]\n",
      "    #%timeit -n1 -r1 [fm[i,...] for i in range(0, n, 10)]\n",
      "    #%timeit -n1 -r1 fm[range(0, n, 10),...]\n",
      "    %timeit -n1 -r1 fm[::2,...]"
     ]
    }
   ],
   "metadata": {}
  }
 ]
}